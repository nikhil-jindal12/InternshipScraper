{
 "cells": [
  {
   "cell_type": "code",
   "execution_count": 2,
   "metadata": {},
   "outputs": [],
   "source": [
    "from bs4 import BeautifulSoup \n",
    "from selenium import webdriver\n",
    "from selenium.webdriver.common.by import By\n",
    "import time\n",
    "import csv"
   ]
  },
  {
   "cell_type": "code",
   "execution_count": 3,
   "metadata": {},
   "outputs": [],
   "source": [
    "\n",
    "# use an instance of Chrome to open the desired website and scrape the data\n",
    "driver = webdriver.Chrome()\n",
    "driver.get('https://keybank.wd5.myworkdayjobs.com/External_Career_Site')\n",
    "time.sleep(2)\n",
    "\n",
    "# get the HTML code from the driver\n",
    "pages = driver.find_elements(By.CLASS_NAME, 'css-1j096s0')\n",
    "html_text = []\n",
    "key_soup = []\n",
    "html_text.append(driver.page_source)\n",
    "key_soup.append(BeautifulSoup(html_text[0], 'lxml'))\n",
    "for page in range(1,len(pages)):\n",
    "    pages[page].click()\n",
    "    time.sleep(1)\n",
    "    html_text.append(driver.page_source)\n",
    "    key_soup.append(BeautifulSoup(html_text[page], 'lxml'))\n",
    "\n",
    "time.sleep(0.25)"
   ]
  },
  {
   "cell_type": "code",
   "execution_count": 4,
   "metadata": {},
   "outputs": [],
   "source": [
    "jobs = []\n",
    "locations = []\n",
    "for page in range(len(key_soup)):\n",
    "    # use BeautifulSoup to find all of the links to the job titles\n",
    "    listing = key_soup[page].find_all('a', class_ = 'css-19uc56f')\n",
    "    for title in listing:\n",
    "        jobs.append(title)\n",
    "\n",
    "    # use BeautifulSoup to find all of the job location and dates posted\n",
    "    place = key_soup[page].find_all('dd', class_='css-129m7dg')\n",
    "    for citystate in place:\n",
    "        locations.append(citystate)"
   ]
  },
  {
   "cell_type": "code",
   "execution_count": 5,
   "metadata": {},
   "outputs": [],
   "source": [
    "# write the scraped data to a csv file\n",
    "with open('keybank.csv', 'w', newline='') as file:\n",
    "    csv_writer = csv.writer(file, delimiter=',')\n",
    "    \n",
    "    # include the following columns of data\n",
    "    csv_writer.writerow(['Company', 'Job Title', 'Job Link', 'Salary', 'Location', 'Date Posted'])\n",
    "\n",
    "    # input the data to the csv in the following format: [Company, Job Title, Job Link, Salary, Location, Date Posted]\n",
    "    for job, location in zip(jobs, range(len(locations))):\n",
    "        line = ['KeyBank', job.text.split(' -')[0].strip(), 'https://keybank.wd5.myworkdayjobs.com' + job.get('href'), 'N/A', locations[(location * 2)].text, locations[(location * 2) + 1].text]\n",
    "        csv_writer.writerow(line)"
   ]
  },
  {
   "cell_type": "code",
   "execution_count": 6,
   "metadata": {},
   "outputs": [],
   "source": [
    "# SCE Internships\n",
    "# using requests since it's not an SPA\n",
    "\n",
    "# driver = webdriver.Chrome()\n",
    "\n",
    "SCE_first5_pages = ['https://www.edisoncareers.com/job-search-results/?category=Internship&compliment=SCE',\n",
    "                    'https://www.edisoncareers.com/job-search-results/?category=Internship&compliment=SCE&pg=2',\n",
    "                    'https://www.edisoncareers.com/job-search-results/?category=Internship&compliment=SCE&pg=3',\n",
    "                    'https://www.edisoncareers.com/job-search-results/?category=Internship&compliment=SCE&pg=4',\n",
    "                    'https://www.edisoncareers.com/job-search-results/?category=Internship&compliment=SCE&pg=5']\n",
    "\n",
    "SCE_html = []\n",
    "SCE_soup = []\n",
    "\n",
    "for page, num in zip(SCE_first5_pages, range(len(SCE_first5_pages))):\n",
    "    driver.get(page)\n",
    "    time.sleep(1)\n",
    "    SCE_html.append(driver.page_source)\n",
    "    SCE_soup.append(BeautifulSoup(SCE_html[num], 'lxml'))\n",
    "    "
   ]
  },
  {
   "cell_type": "code",
   "execution_count": 7,
   "metadata": {},
   "outputs": [],
   "source": [
    "SCE_jobs = []\n",
    "SCE_locations = []\n",
    "\n",
    "for page in range(len(SCE_soup)):\n",
    "    positions= SCE_soup[page].find_all('div', class_ = 'jobTitle')\n",
    "    for pos in positions:\n",
    "        SCE_jobs.append(pos)\n",
    "        \n",
    "    places = SCE_soup[page].find_all('div', class_ = 'job-innerwrap g-cols')\n",
    "    for city_state in places:\n",
    "        SCE_locations.append(city_state.find('div', class_ = 'flex_column joblist-location fusion-layout-column fusion-one-fifth').text)"
   ]
  },
  {
   "cell_type": "code",
   "execution_count": 8,
   "metadata": {},
   "outputs": [],
   "source": [
    "def working_type(job_title):\n",
    "    job_title = str(job_title)\n",
    "    if ('hybrid' in job_title.lower()):\n",
    "        split = job_title.split(' [')\n",
    "        return split[0], split[1][:-1]\n",
    "    elif ('remote' in job_title.lower()):\n",
    "        split = job_title.split(' [')\n",
    "        return split[0], split[1][:-1]\n",
    "    elif ('on-site' in job_title.lower()):\n",
    "        split = job_title.split(' [')\n",
    "        return split[0], split[1][:-1]\n",
    "    return job_title, 'N/A'"
   ]
  },
  {
   "cell_type": "code",
   "execution_count": 9,
   "metadata": {},
   "outputs": [],
   "source": [
    "with open('keybank.csv', 'a', newline='') as file:\n",
    "    csv_writer = csv.writer(file)\n",
    "    for po, place in zip(SCE_jobs, SCE_locations):\n",
    "        title, work_type = working_type(po.text)\n",
    "        line = ['Southern California Edison', title, 'https://www.edisoncareers.com' + SCE_jobs[SCE_jobs.index(po)].find('a').get('href'), 'N/A', place + ' (' + work_type + ')', 'N/A']\n",
    "        csv_writer.writerow(line)"
   ]
  },
  {
   "cell_type": "code",
   "execution_count": 22,
   "metadata": {},
   "outputs": [
    {
     "name": "stdout",
     "output_type": "stream",
     "text": [
      "2\n"
     ]
    },
    {
     "ename": "AttributeError",
     "evalue": "'str' object has no attribute 'click'",
     "output_type": "error",
     "traceback": [
      "\u001b[1;31m---------------------------------------------------------------------------\u001b[0m",
      "\u001b[1;31mAttributeError\u001b[0m                            Traceback (most recent call last)",
      "\u001b[1;32mc:\\Users\\User\\OneDrive - Case Western Reserve University\\Documents\\Github Projects\\InternshipScraper\\keybankscraper.ipynb Cell 9\u001b[0m line \u001b[0;36m1\n\u001b[0;32m     <a href='vscode-notebook-cell:/c%3A/Users/User/OneDrive%20-%20Case%20Western%20Reserve%20University/Documents/Github%20Projects/InternshipScraper/keybankscraper.ipynb#X11sZmlsZQ%3D%3D?line=11'>12</a>\u001b[0m next_page_button \u001b[39m=\u001b[39m lenovo_soup[\u001b[39m0\u001b[39m]\u001b[39m.\u001b[39mfind_all(\u001b[39m'\u001b[39m\u001b[39ma\u001b[39m\u001b[39m'\u001b[39m, class_\u001b[39m=\u001b[39m\u001b[39m'\u001b[39m\u001b[39mlist-controls__pagination__item paginationNextLink\u001b[39m\u001b[39m'\u001b[39m)[\u001b[39m0\u001b[39m]\u001b[39m.\u001b[39mget(\u001b[39m'\u001b[39m\u001b[39mhref\u001b[39m\u001b[39m'\u001b[39m)\n\u001b[0;32m     <a href='vscode-notebook-cell:/c%3A/Users/User/OneDrive%20-%20Case%20Western%20Reserve%20University/Documents/Github%20Projects/InternshipScraper/keybankscraper.ipynb#X11sZmlsZQ%3D%3D?line=13'>14</a>\u001b[0m \u001b[39mfor\u001b[39;00m page \u001b[39min\u001b[39;00m \u001b[39mrange\u001b[39m(\u001b[39m1\u001b[39m,\u001b[39mlen\u001b[39m(pages)):\n\u001b[1;32m---> <a href='vscode-notebook-cell:/c%3A/Users/User/OneDrive%20-%20Case%20Western%20Reserve%20University/Documents/Github%20Projects/InternshipScraper/keybankscraper.ipynb#X11sZmlsZQ%3D%3D?line=14'>15</a>\u001b[0m     next_page_button\u001b[39m.\u001b[39;49mclick()\n\u001b[0;32m     <a href='vscode-notebook-cell:/c%3A/Users/User/OneDrive%20-%20Case%20Western%20Reserve%20University/Documents/Github%20Projects/InternshipScraper/keybankscraper.ipynb#X11sZmlsZQ%3D%3D?line=15'>16</a>\u001b[0m     time\u001b[39m.\u001b[39msleep(\u001b[39m1\u001b[39m)\n\u001b[0;32m     <a href='vscode-notebook-cell:/c%3A/Users/User/OneDrive%20-%20Case%20Western%20Reserve%20University/Documents/Github%20Projects/InternshipScraper/keybankscraper.ipynb#X11sZmlsZQ%3D%3D?line=16'>17</a>\u001b[0m     lenovo_html\u001b[39m.\u001b[39mappend(driver\u001b[39m.\u001b[39mpage_source)\n",
      "\u001b[1;31mAttributeError\u001b[0m: 'str' object has no attribute 'click'"
     ]
    }
   ],
   "source": [
    "driver.get('https://jobs.lenovo.com/en_US/careers/SearchJobs/?13036=%5B12016802%5D&13036_format=6621&7715=%5B327885%5D&7715_format=3083&listFilterMode=1&jobRecordsPerPage=10&sort=relevancy')\n",
    "time.sleep(1)\n",
    "\n",
    "pages = driver.find_elements(By.CLASS_NAME, 'list-controls__pagination')\n",
    "print(len(pages))\n",
    "lenovo_html = []\n",
    "lenovo_soup = []\n",
    "\n",
    "lenovo_html.append(driver.page_source)\n",
    "lenovo_soup.append(BeautifulSoup(lenovo_html[0], 'lxml'))\n",
    "\n",
    "next_page_button = lenovo_soup[0].find_all('a', class_='list-controls__pagination__item paginationNextLink')[0].get('href')\n",
    "\n",
    "for page in range(1,len(pages)):\n",
    "    next_page_button.click()\n",
    "    time.sleep(1)\n",
    "    lenovo_html.append(driver.page_source)\n",
    "    lenovo_soup.append(BeautifulSoup(lenovo_html[page], 'lxml'))\n",
    "    \n",
    "    \n",
    "# return lenovo_html, lenovo_soup"
   ]
  },
  {
   "cell_type": "markdown",
   "metadata": {},
   "source": [
    "driver.get('https://jobs.lenovo.com/en_US/careers/SearchJobs/?13036=%5B12016802%5D&13036_format=6621&listFilterMode=1&jobSort=relevancy&jobRecordsPerPage=10&sort=relevancy')\n",
    "\n"
   ]
  }
 ],
 "metadata": {
  "kernelspec": {
   "display_name": "Python 3",
   "language": "python",
   "name": "python3"
  },
  "language_info": {
   "codemirror_mode": {
    "name": "ipython",
    "version": 3
   },
   "file_extension": ".py",
   "mimetype": "text/x-python",
   "name": "python",
   "nbconvert_exporter": "python",
   "pygments_lexer": "ipython3",
   "version": "3.11.2"
  }
 },
 "nbformat": 4,
 "nbformat_minor": 2
}
