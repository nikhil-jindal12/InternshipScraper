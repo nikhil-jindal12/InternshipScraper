{
 "cells": [
  {
   "cell_type": "code",
   "execution_count": 1,
   "metadata": {},
   "outputs": [],
   "source": [
    "from bs4 import BeautifulSoup \n",
    "from selenium import webdriver\n",
    "import time\n",
    "import csv"
   ]
  },
  {
   "cell_type": "code",
   "execution_count": 2,
   "metadata": {},
   "outputs": [],
   "source": [
    "# use an instance of Chrome to open the desired website and scrape the data\n",
    "driver = webdriver.Chrome()\n",
    "driver.get('https://keybank.wd5.myworkdayjobs.com/External_Career_Site')\n",
    "time.sleep(5)\n",
    "\n",
    "# get the HTML code from the driver\n",
    "html_text = driver.page_source\n",
    "\n",
    "# use BeautifulSoup to parse the HTML code\n",
    "soup = BeautifulSoup(html_text, 'lxml')\n",
    "\n",
    "driver.close()"
   ]
  },
  {
   "cell_type": "code",
   "execution_count": 3,
   "metadata": {},
   "outputs": [],
   "source": [
    "# use BeautifulSoup to find all of the links to the job titles\n",
    "jobs = soup.find_all('a', class_ = 'css-19uc56f')\n",
    "\n",
    "# use BeautifulSoup to find all of the job location and dates posted\n",
    "locations = soup.find_all('dd', class_='css-129m7dg')"
   ]
  },
  {
   "cell_type": "code",
   "execution_count": 4,
   "metadata": {},
   "outputs": [],
   "source": [
    "# write the scraped data to a csv file\n",
    "with open('keybank.csv', 'w') as file:\n",
    "    csv_writer = csv.writer(file, delimiter=',')\n",
    "    \n",
    "    # include the following columns of data\n",
    "    csv_writer.writerow(['Company', 'Job Title', 'Job Link', 'Salary', 'Location', 'Date Posted'])\n",
    "\n",
    "    # input the data to the csv in the following format: [Company, Job Title, Job Link, Salary, Location, Date Posted]\n",
    "    for job, location in zip(jobs, range(len(jobs))):\n",
    "        line = ['KeyBank', job.text.split(' -')[0].strip(), 'https://keybank.wd5.myworkdayjobs.com' + job.get('href'), 'N/A', locations[location * 2].text, locations[(location * 2) + 1].text]\n",
    "        csv_writer.writerow(line)"
   ]
  }
 ],
 "metadata": {
  "kernelspec": {
   "display_name": "Python 3",
   "language": "python",
   "name": "python3"
  },
  "language_info": {
   "codemirror_mode": {
    "name": "ipython",
    "version": 3
   },
   "file_extension": ".py",
   "mimetype": "text/x-python",
   "name": "python",
   "nbconvert_exporter": "python",
   "pygments_lexer": "ipython3",
   "version": "3.11.2"
  }
 },
 "nbformat": 4,
 "nbformat_minor": 2
}
