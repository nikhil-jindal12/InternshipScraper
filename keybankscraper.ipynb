{
 "cells": [
  {
   "cell_type": "code",
   "execution_count": null,
   "metadata": {},
   "outputs": [],
   "source": [
    "from bs4 import BeautifulSoup \n",
    "from selenium import webdriver\n",
    "from selenium.webdriver.common.by import By\n",
    "import time\n",
    "import csv"
   ]
  },
  {
   "cell_type": "code",
   "execution_count": 70,
   "metadata": {},
   "outputs": [],
   "source": [
    "\n",
    "# use an instance of Chrome to open the desired website and scrape the data\n",
    "driver = webdriver.Chrome()\n",
    "driver.get('https://keybank.wd5.myworkdayjobs.com/External_Career_Site')\n",
    "time.sleep(2)\n",
    "\n",
    "# get the HTML code from the driver\n",
    "pages = driver.find_elements(By.CLASS_NAME, 'css-1j096s0')\n",
    "html_text = []\n",
    "key_soup = []\n",
    "html_text.append(driver.page_source)\n",
    "key_soup.append(BeautifulSoup(html_text[0], 'lxml'))\n",
    "for page in range(1,len(pages)):\n",
    "    pages[page].click()\n",
    "    time.sleep(1)\n",
    "    html_text.append(driver.page_source)\n",
    "    key_soup.append(BeautifulSoup(html_text[page], 'lxml'))\n",
    "\n",
    "# # use BeautifulSoup to parse the HTML code\n",
    "# key_soup = BeautifulSoup(html_text, 'lxml')\n",
    "\n",
    "# driver.close()"
   ]
  },
  {
   "cell_type": "code",
   "execution_count": 76,
   "metadata": {},
   "outputs": [],
   "source": [
    "jobs = []\n",
    "locations = []\n",
    "for page in range(len(key_soup)):\n",
    "    # use BeautifulSoup to find all of the links to the job titles\n",
    "    listing = key_soup[page].find_all('a', class_ = 'css-19uc56f')\n",
    "    for title in listing:\n",
    "        jobs.append(title)\n",
    "\n",
    "    # use BeautifulSoup to find all of the job location and dates posted\n",
    "    place = key_soup[page].find_all('dd', class_='css-129m7dg')\n",
    "    for citystate in place:\n",
    "        locations.append(citystate)"
   ]
  },
  {
   "cell_type": "code",
   "execution_count": 78,
   "metadata": {},
   "outputs": [],
   "source": [
    "# write the scraped data to a csv file\n",
    "with open('keybank.csv', 'w') as file:\n",
    "    csv_writer = csv.writer(file, delimiter=',')\n",
    "    \n",
    "    # include the following columns of data\n",
    "    csv_writer.writerow(['Company', 'Job Title', 'Job Link', 'Salary', 'Location', 'Date Posted'])\n",
    "\n",
    "    # input the data to the csv in the following format: [Company, Job Title, Job Link, Salary, Location, Date Posted]\n",
    "    for job, location in zip(jobs, range(len(locations))):\n",
    "        line = ['KeyBank', job.text.split(' -')[0].strip(), 'https://keybank.wd5.myworkdayjobs.com' + job.get('href'), 'N/A', locations[(location * 2)].text, locations[(location * 2) + 1].text]\n",
    "        csv_writer.writerow(line)"
   ]
  },
  {
   "cell_type": "code",
   "execution_count": null,
   "metadata": {},
   "outputs": [],
   "source": [
    "# SCE Internships\n",
    "# using requests since it's not an SPA\n",
    "\n",
    "driver = webdriver.Chrome()\n",
    "\n",
    "# use an instance of Chrome to open the desired website and scrape the data\n",
    "driver.get('https://www.edisoncareers.com/job-search-results/?category=Internship&compliment=SCE')\n",
    "time.sleep(5)\n",
    "\n",
    "# get the HTML code from the driver\n",
    "SCE_html = driver.page_source\n",
    "\n",
    "# use BeautifulSoup to parse the HTML code\n",
    "SCE_soup = BeautifulSoup(html_text, 'lxml')\n",
    "\n",
    "driver.close()"
   ]
  }
 ],
 "metadata": {
  "kernelspec": {
   "display_name": "Python 3",
   "language": "python",
   "name": "python3"
  },
  "language_info": {
   "codemirror_mode": {
    "name": "ipython",
    "version": 3
   },
   "file_extension": ".py",
   "mimetype": "text/x-python",
   "name": "python",
   "nbconvert_exporter": "python",
   "pygments_lexer": "ipython3",
   "version": "3.11.2"
  }
 },
 "nbformat": 4,
 "nbformat_minor": 2
}
