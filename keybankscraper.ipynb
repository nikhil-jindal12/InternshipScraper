{
 "cells": [
  {
   "cell_type": "code",
   "execution_count": 9,
   "metadata": {},
   "outputs": [],
   "source": [
    "from bs4 import BeautifulSoup \n",
    "from selenium import webdriver\n",
    "import time\n",
    "import csv"
   ]
  },
  {
   "cell_type": "code",
   "execution_count": 10,
   "metadata": {},
   "outputs": [],
   "source": [
    "driver = webdriver.Chrome()\n",
    "\n",
    "driver.get('https://keybank.wd5.myworkdayjobs.com/External_Career_Site')\n",
    "\n",
    "time.sleep(5)\n",
    "\n",
    "html_text = driver.page_source\n",
    "\n",
    "soup = BeautifulSoup(html_text, 'lxml')\n",
    "\n",
    "driver.close()"
   ]
  },
  {
   "cell_type": "code",
   "execution_count": 11,
   "metadata": {},
   "outputs": [],
   "source": [
    "jobs = soup.find_all('a', class_ = 'css-19uc56f')\n",
    "locations = soup.find_all('dd', class_='css-129m7dg')"
   ]
  },
  {
   "cell_type": "code",
   "execution_count": 12,
   "metadata": {},
   "outputs": [],
   "source": [
    "with open('keybank.csv', 'w') as file:\n",
    "    csv_writer = csv.writer(file, delimiter=',')\n",
    "    csv_writer.writerow(['Company', 'Job Title', 'Job Link', 'Salary', 'Location', 'Date Posted'])\n",
    "\n",
    "    # [Company, Job Title, Job Link, Salary, Location, Date Posted]\n",
    "    for job, location in zip(jobs, range(len(jobs))):\n",
    "        line = ['KeyBank', job.text.split(' -')[0].strip(), 'https://keybank.wd5.myworkdayjobs.com' + job.get('href'), 'N/A', locations[location * 2].text, locations[(location * 2) + 1].text]\n",
    "        csv_writer.writerow(line)"
   ]
  }
 ],
 "metadata": {
  "kernelspec": {
   "display_name": "Python 3",
   "language": "python",
   "name": "python3"
  },
  "language_info": {
   "codemirror_mode": {
    "name": "ipython",
    "version": 3
   },
   "file_extension": ".py",
   "mimetype": "text/x-python",
   "name": "python",
   "nbconvert_exporter": "python",
   "pygments_lexer": "ipython3",
   "version": "3.11.2"
  }
 },
 "nbformat": 4,
 "nbformat_minor": 2
}
